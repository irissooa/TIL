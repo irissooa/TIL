{
 "cells": [
  {
   "cell_type": "markdown",
   "metadata": {},
   "source": [
    "# 과일 개수 골라내기\n",
    "\n",
    "> 장바구니에 아래와 같은 과일이 들어있고 과일 판별 리스트가 있습니다.\n",
    "\n",
    "```python\n",
    "basket_items = {'apples': 4, 'oranges': 19, 'kites': 3, 'sandwiches': 8}\n",
    "\n",
    "fruits = ['apples', 'oranges', 'pears', 'peaches', 'grapes', 'bananas']\n",
    "\n",
    "```\n",
    "> 현재 장바구니에는 과일이 몇개이고 과일이 아닌 것은 몇개인지 출력하시오.\n",
    "---\n",
    "```\n",
    "예시 출력)\n",
    "과일은 23개이고, 11개는 과일이 아닙니다..\n",
    "```"
   ]
  },
  {
   "cell_type": "code",
   "execution_count": null,
   "metadata": {},
   "outputs": [],
   "source": [
    "# 내가 푼 풀이법\n",
    "\n",
    "basket_items = {'apples': 4, 'oranges': 19, 'kites': 3, 'sandwiches': 8}\n",
    "fruits = ['apples', 'oranges', 'pears', 'peaches', 'grapes', 'bananas']\n",
    "# 아래에 코드를 작성하세요.\n",
    "list_names=[]\n",
    "list_count=[]\n",
    "count_fruit = 0 # 과일의 개수 변수\n",
    "count_non_fruit = 0 # 과일이 아닌 것의 개수 변수\n",
    "count = 0 # 과일인지 아닌지 판별하기 위한 리스트 순서 변수\n",
    "\n",
    "for i in basket_items.keys():\n",
    "    list_names.append(i)\n",
    "for j in basket_items.values():\n",
    "    list_count.append(j)\n",
    "for k in list_names:\n",
    "    if k in fruits:\n",
    "        count_fruit += list_count[count]\n",
    "    else:\n",
    "        count_non_fruit += list_count[count]\n",
    "    count += 1\n",
    "print(f'과일은 {count_fruit}개이고, {count_non_fruit}개는 과일이 아닙니다..')"
   ]
  },
  {
   "cell_type": "code",
   "execution_count": null,
   "metadata": {},
   "outputs": [],
   "source": [
    "# 다른 학생의 풀이법\n",
    "\n",
    "total = 0\n",
    "total_fruits = 0\n",
    "for item, amount in basket_items.items():\n",
    "    total += amount\n",
    "    if item in fruits:\n",
    "        total_fruits += amount\n",
    "non_fruits = total - total_fruits\n",
    "\n",
    "print(f'과일은 {total_fruits}개이고, {non_fruits}개는 과일이 아닙니다..')"
   ]
  },
  {
   "cell_type": "code",
   "execution_count": null,
   "metadata": {},
   "outputs": [],
   "source": [
    "# 강사의 풀이법\n",
    "\n",
    "# 딕셔너리 카운트\n",
    "# 딕셔너리에서 키와 값을 모두 가져와서,\n",
    "# 키가 과일 리스트에 있으면 특정 카운트에 그 키의 값을 계속해서 더한다.\n",
    "# 반대로 키가 과일 리스트에 없으면, 다른 카운트에 그 키의 값을 계속해서 더한다.\n",
    "\n",
    "fruit_count = 0\n",
    "not_fruit_count = 0\n",
    "\n",
    "for fruit, count in basket_items.items():\n",
    "    if fruit in fruits:\n",
    "        fruit_count += count\n",
    "    else:\n",
    "        not_fruit_count += count\n",
    "print(f'과일은 {fruit_count}개이고, {not_fruit_count}개는 과일이 아닙니다..')"
   ]
  },
  {
   "cell_type": "markdown",
   "metadata": {},
   "source": [
    "# 영어 이름 출력하기 \n",
    "\n",
    "> 영어 이름은 가운데 이름을 가지고 있는 경우가 있습니다.\n",
    ">\n",
    "> 가운데 이름은 대문자로 축약해서 나타내는 코드를 작성해보세요.\n",
    "\n",
    "---\n",
    "```\n",
    "예시 입력)\n",
    "Alice Betty Catherine Davis\n",
    "```\n",
    "```\n",
    "예시 출력)\n",
    "Alice B. C. Davis\n",
    "```"
   ]
  },
  {
   "cell_type": "code",
   "execution_count": null,
   "metadata": {},
   "outputs": [],
   "source": [
    "# 아래에 코드를 작성하세요.\n",
    "name = input(\"이름을 입력하세요 : \").split(' ')\n",
    "\n",
    "shorted_name = ''\n",
    "for i in name:\n",
    "    if (i == name[0]) or (i == name[len(name)-1]):\n",
    "        shorted_name += i + ' '\n",
    "    else:\n",
    "        shorted_name += i[0:1].upper() + '. '\n",
    "print(shorted_name)"
   ]
  },
  {
   "cell_type": "code",
   "execution_count": null,
   "metadata": {},
   "outputs": [],
   "source": [
    "# 강사의 풀이법\n",
    "\n",
    "name = input() # str\n",
    "names = name.split() # 'Alice Betty' -> ['Alice', 'Betty']\n",
    "# 반복문을 통해 처음과 끝 요소를 제외한 나머지 요소들을 '대문자 + .'으로 변경한다.\n",
    "for i in range(1, len(names)-1):\n",
    "    names[i] = names[i][0].upper() + '.'\n",
    "# 리스트를 문자열로 바꾼다. (.join())\n",
    "print(' '.join(names)) # 공백을 기준으로 문자열을 붙인다."
   ]
  },
  {
   "cell_type": "markdown",
   "metadata": {},
   "source": [
    "# 구구단 출력하기\n",
    "> 2단부터 9단까지 반복문을 사용하여 구구단을 출력하세요.\n",
    "---\n",
    "```\n",
    "예시 출력)\n",
    "------- [2 단] -------\n",
    "2 X 1 = 2\n",
    "2 X 2 = 4\n",
    "2 X 3 = 6\n",
    "2 X 4 = 8\n",
    "2 X 5 = 10\n",
    "2 X 6 = 12\n",
    "2 X 7 = 14\n",
    "2 X 8 = 16\n",
    "2 X 9 = 18\n",
    "\n",
    "------- [3 단] -------\n",
    "...\n",
    "```"
   ]
  },
  {
   "cell_type": "code",
   "execution_count": null,
   "metadata": {},
   "outputs": [],
   "source": [
    "# 아래에 코드를 작성하세요.\n",
    "\n",
    "# 첫 번째 반복문은 2부터 9까지 반복\n",
    "# 두 번째 반복문은 1부터 9까지 반복\n",
    "for i in range(2, 10):\n",
    "    print('------- [{} 단] -------'.format(i))\n",
    "    for j in range(1, 10):\n",
    "        print(f'{i} X {j} = {i*j}')\n",
    "    print()"
   ]
  },
  {
   "cell_type": "markdown",
   "metadata": {},
   "source": [
    "# 달력 출력하기\n",
    "\n",
    "> 1월 1일 월요일부터 12월 31일까지 달력을 출력하세요.\n",
    "\n",
    "---\n",
    "```\n",
    "예시 출력)\n",
    "         1 월\n",
    "Mo Tu We Th Fr Sa Su \n",
    " 1  2  3  4  5  6  7 \n",
    " 8  9 10 11 12 13 14 \n",
    "15 16 17 18 19 20 21 \n",
    "22 23 24 25 26 27 28 \n",
    "29 30 31 \n",
    "         2 월\n",
    "Mo Tu We Th Fr Sa Su \n",
    " 1  2  3  4  5  6  7 \n",
    " 8  9 10 11 12 13 14 \n",
    "15 16 17 18 19 20 21 \n",
    "22 23 24 25 26 27 28 \n",
    "\n",
    "         3 월\n",
    "Mo Tu We Th Fr Sa Su \n",
    " 1  2  3  4  5  6  7 \n",
    " 8  9 10 11 12 13 14 \n",
    "15 16 17 18 19 20 21 \n",
    "22 23 24 25 26 27 28 \n",
    "29 30 31\n",
    "...\n",
    "```"
   ]
  },
  {
   "cell_type": "code",
   "execution_count": null,
   "metadata": {},
   "outputs": [],
   "source": [
    "calendar = { \n",
    "        1: 31, 2: 28, 3: 31, 4: 30, 5: 31,6: 30, \n",
    "        7: 31, 8: 31, 9: 30, 10: 31, 11: 30, 12: 31 \n",
    "} \n",
    "weeks = ['Mo', 'Tu', 'We', 'Th', 'Fr', 'Sa', 'Su'] \n",
    "# 아래에 코드를 작성하세요.\n",
    "\n",
    "for month in calendar.keys():\n",
    "    print('         {} 월'.format(month))\n",
    "    for a in weeks:\n",
    "        print(a, end = ' ')\n",
    "    print()\n",
    "    total_days = int(calendar[month])\n",
    "    for i in range (1, total_days+1):\n",
    "        if i % 7 != 0:\n",
    "            if i < 10:\n",
    "                print(' ' + str(i), end = ' ')\n",
    "            else:\n",
    "                print(i, end = ' ')\n",
    "        else:\n",
    "            if i < 10:\n",
    "                print(' ' + str(i), end = '\\n')\n",
    "            else:\n",
    "                print(i, end = '\\n')\n",
    "    print()"
   ]
  },
  {
   "cell_type": "code",
   "execution_count": null,
   "metadata": {},
   "outputs": [],
   "source": [
    "# 강사의 풀이법\n",
    "\n",
    "calendar = { \n",
    "        1: 31, 2: 28, 3: 31, 4: 30, 5: 31,6: 30, \n",
    "        7: 31, 8: 31, 9: 30, 10: 31, 11: 30, 12: 31 \n",
    "} \n",
    "weeks = ['Mo', 'Tu', 'We', 'Th', 'Fr', 'Sa', 'Su'] \n",
    "\n",
    "# 딕셔너리의 키, 값을 반복문을 통해 이용한다.\n",
    "\n",
    "for month, count_day in calendar.items():\n",
    "    count = 0\n",
    "    print(f'{month:10} 월')\n",
    "    for day in weeks:\n",
    "        print(f'{day}', end = ' ')\n",
    "    print()\n",
    "    for i in range(1, count_day+1):\n",
    "        print(f'{i:2}', end = ' ')\n",
    "        count += 1\n",
    "        if count == 7:\n",
    "            print()\n",
    "            count = 0\n",
    "    print()"
   ]
  },
  {
   "cell_type": "markdown",
   "metadata": {},
   "source": [
    "# 개인정보보호\n",
    "> 사용자의 핸드폰번호를 입력 받으려고한다. 개인정보 보호를 위하여 뒷자리 4자리를 제외하고는 마스킹 처리를 하려고한다.\n",
    ">\n",
    "> 핸드폰번호는 010으로 시작해야하고 11자리여야한다. 핸드폰번호를 입력하지 않았다면 \"핸드폰번호를 입력하세요\"를 출력한다\n",
    "\n",
    "```\n",
    "예시 입력)\n",
    "01012341234\n",
    "예시 출력)\n",
    "*******1234\n",
    "```"
   ]
  },
  {
   "cell_type": "code",
   "execution_count": null,
   "metadata": {},
   "outputs": [],
   "source": [
    "# 아래에 코드를 작성하세요.\n",
    "phone_number = input()\n",
    "\n",
    "if phone_number[0:3] == '010' and len(phone_number) == 11:\n",
    "    print(\"*******\" + phone_number[-4:])\n",
    "else:\n",
    "    print('핸드폰번호를 입력하세요.')"
   ]
  },
  {
   "cell_type": "code",
   "execution_count": null,
   "metadata": {},
   "outputs": [],
   "source": [
    "# 다른 풀이 방법\n",
    "\n",
    "phone_number = input()\n",
    "\n",
    "if phone_number[0:3] == '010' and len(phone_number) == 11:\n",
    "    print(f'{phone_number[-4:]:*>11}')\n",
    "else:\n",
    "    print('핸드폰번호를 입력하세요.')"
   ]
  },
  {
   "cell_type": "markdown",
   "metadata": {},
   "source": [
    "# 정중앙\n",
    "> 사용자가 입력한 문자열중 가운데 글자를 출력하라. 문자열이 짝수라면 가운데 두글자를 출력하라"
   ]
  },
  {
   "cell_type": "code",
   "execution_count": null,
   "metadata": {},
   "outputs": [],
   "source": [
    "# 아래에 코드를 작성하세요.\n",
    "text = input(\"문자를 입력하세요 :\")\n",
    "\n",
    "length = int(len(text))\n",
    "if length % 2 == 0:\n",
    "    print(string[int(length/2)]+string[int(length/2)+1])\n",
    "else:\n",
    "    print(string[int((1+length)/2)-1])"
   ]
  },
  {
   "cell_type": "code",
   "execution_count": null,
   "metadata": {},
   "outputs": [],
   "source": [
    "# 강사의 풀이법(슬라이싱 개념 사용)\n",
    "\n",
    "text = input()\n",
    "num = len(text) // 2\n",
    "\n",
    "if num % 2:\n",
    "    middle = text[num]\n",
    "else:\n",
    "    middle = text[num-1:num+1]\n",
    "print(middle)"
   ]
  },
  {
   "cell_type": "markdown",
   "metadata": {},
   "source": [
    "# 소수 찾기"
   ]
  },
  {
   "cell_type": "markdown",
   "metadata": {},
   "source": [
    "> 조건, 반복문을 응용하여 numbers 리스트의 요소들이 소수인지 아닌지 판단하는 코드를 작성하라.\n",
    "\n",
    "```python\n",
    "numbers = [26, 39, 51, 53, 57, 79, 85]\n",
    "\n",
    "# 출력 예시\n",
    "26 는 소수가 아닙니다. 2 는 26 의 인수입니다.\n",
    "39 는 소수가 아닙니다. 3 는 39 의 인수입니다.\n",
    "51 는 소수가 아닙니다. 3 는 51 의 인수입니다.\n",
    "53 는 소수입니다.\n",
    "57 는 소수가 아닙니다. 3 는 57 의 인수입니다.\n",
    "79 는 소수입니다.\n",
    "85 는 소수가 아닙니다. 5 는 85 의 인수입니다.\n",
    "```"
   ]
  },
  {
   "cell_type": "code",
   "execution_count": null,
   "metadata": {},
   "outputs": [],
   "source": [
    "# 내가 푼 풀이법\n",
    "\n",
    "numbers = [26, 39, 51, 53, 57, 79, 85]\n",
    "# 아래에 코드를 작성하세요.\n",
    "for num in numbers:\n",
    "    determine_prime = 0\n",
    "    for prime in range(2, int(num/2)):\n",
    "        if determine_prime < 1:\n",
    "            if num % prime == 0:\n",
    "                print(f'{num} 는 소수가 아닙니다. {prime} 는 {num} 의 인수입니다.')\n",
    "                determine_prime += 1\n",
    "    if determine_prime == 0:\n",
    "        print(f'{num} 는 소수입니다.')"
   ]
  },
  {
   "cell_type": "code",
   "execution_count": null,
   "metadata": {},
   "outputs": [],
   "source": [
    "# 다른 학생의 풀이법\n",
    "\n",
    "numbers = [26, 39, 51, 53, 57, 79, 85]\n",
    "# 1. 26 부터 각 수를 1 부터 나눠서 나머지 0 나오는 수 count,\n",
    "## 인수를 별도 리스트에 담음\n",
    "for number in numbers:    \n",
    "    div = []\n",
    "    count = 0\n",
    "    for i in range(1, number+1):        \n",
    "        if number % i == 0:            \n",
    "            div.append(i)\n",
    "            count += 1\n",
    "\n",
    "# 2. count가 2인 경우는 '소수입니다' 출력, 2가 아니면 '소수가 아닙니다. 어쩌구' 출력\n",
    "## div[0] 은 1 이므로 div[1] 값 출력\n",
    "    if count == 2:\n",
    "        print(f'{number} 는 소수입니다.')\n",
    "    else:\n",
    "        print(f'{number} 는 소수가 아닙니다. {div[1]} 는 {number} 의 인수입니다.')"
   ]
  },
  {
   "cell_type": "code",
   "execution_count": null,
   "metadata": {},
   "outputs": [],
   "source": [
    "# 반복문의 else 를 사용하는 것이 포인트 !\n",
    "for number in numbers:\n",
    "    for x in range(2, number):\n",
    "        if number % x == 0:\n",
    "            print(f'{number} 는 소수가 아닙니다. {x} 는 {number} 의 인수입니다.')\n",
    "            break\n",
    "    else:\n",
    "        print(f'{number} 는 소수입니다.')"
   ]
  }
 ],
 "metadata": {
  "kernelspec": {
   "display_name": "Python 3",
   "language": "python",
   "name": "python3"
  },
  "language_info": {
   "codemirror_mode": {
    "name": "ipython",
    "version": 3
   },
   "file_extension": ".py",
   "mimetype": "text/x-python",
   "name": "python",
   "nbconvert_exporter": "python",
   "pygments_lexer": "ipython3",
   "version": "3.7.3"
  },
  "latex_envs": {
   "LaTeX_envs_menu_present": true,
   "autoclose": false,
   "autocomplete": true,
   "bibliofile": "biblio.bib",
   "cite_by": "apalike",
   "current_citInitial": 1,
   "eqLabelWithNumbers": true,
   "eqNumInitial": 1,
   "hotkeys": {
    "equation": "Ctrl-E",
    "itemize": "Ctrl-I"
   },
   "labels_anchors": false,
   "latex_user_defs": false,
   "report_style_numbering": false,
   "user_envs_cfg": false
  },
  "toc": {
   "base_numbering": 1,
   "nav_menu": {},
   "number_sections": true,
   "sideBar": true,
   "skip_h1_title": false,
   "title_cell": "Table of Contents",
   "title_sidebar": "Contents",
   "toc_cell": false,
   "toc_position": {},
   "toc_section_display": true,
   "toc_window_display": false
  }
 },
 "nbformat": 4,
 "nbformat_minor": 2
}
