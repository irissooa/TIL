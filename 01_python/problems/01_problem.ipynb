{
 "cells": [
  {
   "cell_type": "markdown",
   "metadata": {},
   "source": [
    "# 상승장? 하락장?\n",
    "\n",
    "> 최고가와 최저가의 차이를 변동폭으로 정의할 때 (시가 + 변동폭)이 최고가 보다 높을 경우 \"상승장\", 그렇지 않은 경우 \"하락장\" 문자열을 출력하라.\n",
    "\n",
    "|Key Name|Description|\n",
    "|------|---|\n",
    "|opeing_price|최근 24시간 내 시작 거래금액|\n",
    "|closing_price|최근 24시간 내 마지막 거래금액|\n",
    "|min_price|최근 24시간 내 최저 거래금액|\n",
    "|max_price|최근 24시간 내 최고 거래금액|"
   ]
  },
  {
   "cell_type": "code",
   "execution_count": 1,
   "metadata": {},
   "outputs": [
    {
     "name": "stdout",
     "output_type": "stream",
     "text": [
      "{'opening_price': '13498000', 'closing_price': '12407000', 'min_price': '11879000', 'max_price': '13533000', 'average_price': '12654193.0604', 'units_traded': '17280.70018965', 'volume_1day': '17280.70018965', 'volume_7day': '90537.57174207', 'buy_price': '12409000', 'sell_price': '12418000', '24H_fluctate': '-1091000', '24H_fluctate_rate': '-8.08', 'date': '1563177564910'}\n"
     ]
    }
   ],
   "source": [
    "import requests\n",
    "\n",
    "url = \"https://api.bithumb.com/public/ticker/btc\"\n",
    "data = requests.get(url).json()['data']\n",
    "print(data)"
   ]
  },
  {
   "cell_type": "code",
   "execution_count": 5,
   "metadata": {},
   "outputs": [
    {
     "name": "stdout",
     "output_type": "stream",
     "text": [
      "상승장\n"
     ]
    }
   ],
   "source": [
    "# 아래에 코드를 작성하세요.\n",
    "variable = int(data.get('max_price')) - int(data.get('min_price')) # 변동폭\n",
    "start = int(data.get('opening_price')) # 시가\n",
    "if (start + variable) >= int(data.get('max_price')):\n",
    "    print('상승장')\n",
    "elif (start + variable) < int(data.get('max_price')):\n",
    "    print('하락장')"
   ]
  },
  {
   "cell_type": "markdown",
   "metadata": {},
   "source": [
    "# 모음 제거하기\n",
    "\n",
    "> 다음 문장의 모음을 제거하여 출력하세요.\n",
    "\n",
    "```\n",
    "예시 입력)\n",
    "\"Life is too short, you need python\"\n",
    "예시 출력)\n",
    "Lf s t shrt, y nd pythn\n",
    "```"
   ]
  },
  {
   "cell_type": "code",
   "execution_count": 17,
   "metadata": {},
   "outputs": [],
   "source": [
    "my_str = \"Life is too short, you need python\""
   ]
  },
  {
   "cell_type": "code",
   "execution_count": 18,
   "metadata": {},
   "outputs": [
    {
     "name": "stdout",
     "output_type": "stream",
     "text": [
      "Lf s t shrt, y nd pythn\n"
     ]
    }
   ],
   "source": [
    "# 아래에 코드를 작성하세요.\n",
    "before = list(my_str)\n",
    "revise = []\n",
    "count=0\n",
    "for i in before:\n",
    "    if (before[count] == 'a') or (before[count] == 'e') or (before[count] == 'i') or (before[count] == 'o') or (before[count] == 'u'):\n",
    "        revise.append('')\n",
    "    else:\n",
    "        revise.append(i)\n",
    "    count += 1\n",
    "print(''.join(revise))"
   ]
  },
  {
   "cell_type": "code",
   "execution_count": null,
   "metadata": {},
   "outputs": [],
   "source": []
  }
 ],
 "metadata": {
  "kernelspec": {
   "display_name": "Python 3",
   "language": "python",
   "name": "python3"
  },
  "language_info": {
   "codemirror_mode": {
    "name": "ipython",
    "version": 3
   },
   "file_extension": ".py",
   "mimetype": "text/x-python",
   "name": "python",
   "nbconvert_exporter": "python",
   "pygments_lexer": "ipython3",
   "version": "3.7.3"
  },
  "toc": {
   "base_numbering": 1,
   "nav_menu": {},
   "number_sections": true,
   "sideBar": true,
   "skip_h1_title": false,
   "title_cell": "Table of Contents",
   "title_sidebar": "Contents",
   "toc_cell": false,
   "toc_position": {},
   "toc_section_display": true,
   "toc_window_display": false
  }
 },
 "nbformat": 4,
 "nbformat_minor": 2
}
