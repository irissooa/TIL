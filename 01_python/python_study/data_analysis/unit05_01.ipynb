{
 "cells": [
  {
   "cell_type": "code",
   "execution_count": null,
   "metadata": {},
   "outputs": [],
   "source": [
    "%matplotlib inline\n",
    "import csv\n",
    "import matplotlib.pyplot as plt\n",
    "f=open('seoul.csv')\n",
    "data=csv.reader(f)\n",
    "next(data)\n",
    "high=[]\n",
    "low=[]\n",
    "\n",
    "for row in data :\n",
    "    if row[3] != '' and row[4] != '':\n",
    "        if 1994 <= int(row[0].split('-')[0]) :\n",
    "            if row[0].split('-')[1] == '02' and row[0].split('-')[2] == '13':\n",
    "                high.append(float(row[4]))\n",
    "                low.append(float(row[3]))\n",
    "\n",
    "plt.figure(figsize=(16, 5))\n",
    "plt.rc('font', family='Malgun Gothic')\n",
    "plt.rcParams['axes.unicode_minus']=False\n",
    "plt.title('1994~2019년까지 내 생일(2월13일)의 기온 변화 그래프')\n",
    "plt.plot(high, 'hotpink', label='최고 기온')\n",
    "plt.plot(low, 'skyblue', label='최저 기온')\n",
    "plt.legend()\n",
    "plt.show()"
   ]
  }
 ],
 "metadata": {
  "kernelspec": {
   "display_name": "Python 3",
   "language": "python",
   "name": "python3"
  },
  "language_info": {
   "codemirror_mode": {
    "name": "ipython",
    "version": 3
   },
   "file_extension": ".py",
   "mimetype": "text/x-python",
   "name": "python",
   "nbconvert_exporter": "python",
   "pygments_lexer": "ipython3",
   "version": "3.7.3"
  }
 },
 "nbformat": 4,
 "nbformat_minor": 2
}
