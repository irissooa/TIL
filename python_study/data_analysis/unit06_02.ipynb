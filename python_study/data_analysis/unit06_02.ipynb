{
 "cells": [
  {
   "cell_type": "code",
   "execution_count": null,
   "metadata": {},
   "outputs": [],
   "source": [
    "%matplotlib inline\n",
    "import csv\n",
    "import matplotlib.pyplot as plt\n",
    "\n",
    "f=open('seoul.csv')\n",
    "data=csv.reader(f)\n",
    "next(data)\n",
    "aug=[]\n",
    "jan=[]\n",
    "\n",
    "for row in data :\n",
    "    month = row[0].split('-')[1]\n",
    "    if row[-1] != '':\n",
    "        if month == '08':\n",
    "            aug.append(float(row[-1]))\n",
    "        if month == '01':\n",
    "            jan.append(float(row[-1]))\n",
    "        \n",
    "plt.hist(aug, bins=100, color='r', label='Aug')\n",
    "plt.hist(jan, bins=100, color='b', label='Jan')\n",
    "plt.legend()\n",
    "plt.show()"
   ]
  },
  {
   "cell_type": "code",
   "execution_count": null,
   "metadata": {},
   "outputs": [],
   "source": []
  }
 ],
 "metadata": {
  "kernelspec": {
   "display_name": "Python 3",
   "language": "python",
   "name": "python3"
  },
  "language_info": {
   "codemirror_mode": {
    "name": "ipython",
    "version": 3
   },
   "file_extension": ".py",
   "mimetype": "text/x-python",
   "name": "python",
   "nbconvert_exporter": "python",
   "pygments_lexer": "ipython3",
   "version": "3.7.3"
  }
 },
 "nbformat": 4,
 "nbformat_minor": 2
}
