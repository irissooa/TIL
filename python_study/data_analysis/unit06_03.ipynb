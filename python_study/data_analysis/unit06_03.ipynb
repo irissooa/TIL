{
 "cells": [
  {
   "cell_type": "code",
   "execution_count": null,
   "metadata": {},
   "outputs": [],
   "source": [
    "%matplotlib inline\n",
    "import matplotlib.pyplot as plt\n",
    "import csv\n",
    "f=open('seoul.csv')\n",
    "data=csv.reader(f)\n",
    "next(data)\n",
    "aug=[]\n",
    "jan=[]\n",
    "\n",
    "for row in data:\n",
    "    month=row[0].split('-')[1]\n",
    "    if row[4] != '':\n",
    "        if month == '08':\n",
    "            aug.append(float(row[4]))\n",
    "        if month == '01':\n",
    "            jan.append(float(row[4]))\n",
    "\n",
    "plt.boxplot([aug, jan])\n",
    "plt.show()"
   ]
  },
  {
   "cell_type": "code",
   "execution_count": null,
   "metadata": {},
   "outputs": [],
   "source": [
    "%matplotlib inline\n",
    "import matplotlib.pyplot as plt\n",
    "import csv\n",
    "f=open('seoul.csv')\n",
    "data=csv.reader(f)\n",
    "next(data)\n",
    "month=[[],[],[],[],[],[],[],[],[],[],[],[]]\n",
    "\n",
    "for row in data:\n",
    "    if row[4] != '':\n",
    "        month[int(row[0].split('-')[1])-1].append(float(row[4]))\n",
    "\n",
    "plt.style.use('ggplot')\n",
    "plt.figure(figsize=(8,4), dpi=300)\n",
    "plt.boxplot(month)\n",
    "plt.show()"
   ]
  },
  {
   "cell_type": "code",
   "execution_count": null,
   "metadata": {},
   "outputs": [],
   "source": [
    "%matplotlib inline\n",
    "import matplotlib.pyplot as plt\n",
    "import csv\n",
    "f=open('seoul.csv')\n",
    "data=csv.reader(f)\n",
    "next(data)\n",
    "\n",
    "day=[]\n",
    "for i in range(31):\n",
    "    day.append([])\n",
    "\n",
    "for row in data:\n",
    "    if row[4] != '':\n",
    "        if row[0].split('-')[1] == '08':\n",
    "            day[int(row[0].split('-')[2])-1].append(float(row[-1]))\n",
    "\n",
    "plt.style.use('ggplot')\n",
    "plt.figure(figsize=(8,4), dpi=300)\n",
    "plt.boxplot(day, showfliers=False)\n",
    "plt.show()"
   ]
  },
  {
   "cell_type": "code",
   "execution_count": null,
   "metadata": {},
   "outputs": [],
   "source": []
  }
 ],
 "metadata": {
  "kernelspec": {
   "display_name": "Python 3",
   "language": "python",
   "name": "python3"
  },
  "language_info": {
   "codemirror_mode": {
    "name": "ipython",
    "version": 3
   },
   "file_extension": ".py",
   "mimetype": "text/x-python",
   "name": "python",
   "nbconvert_exporter": "python",
   "pygments_lexer": "ipython3",
   "version": "3.7.3"
  }
 },
 "nbformat": 4,
 "nbformat_minor": 2
}
