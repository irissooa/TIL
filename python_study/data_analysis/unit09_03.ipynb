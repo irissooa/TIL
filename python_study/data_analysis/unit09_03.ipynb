{
 "cells": [
  {
   "cell_type": "code",
   "execution_count": null,
   "metadata": {},
   "outputs": [],
   "source": [
    "%matplotlib inline\n",
    "import csv\n",
    "import matplotlib.pyplot as plt\n",
    "f = open('gender.csv')\n",
    "data=csv.reader(f)\n",
    "size=[]\n",
    "name=input('찾고 싶은 지역의 이름을 알려주세요 :')\n",
    "\n",
    "for row in data :\n",
    "    if name in row[0] :\n",
    "        m = 0\n",
    "        f = 0\n",
    "        for i in range(101) :\n",
    "            m += int(row[i+3])\n",
    "            f += int(row[i+106])\n",
    "        break\n",
    "size.append(m)\n",
    "size.append(f)\n",
    "\n",
    "plt.style.use('ggplot')\n",
    "plt.figure(figsize=(10,5), dpi=300)\n",
    "plt.rc('font', family='Malgun Gothic')\n",
    "color=['crimson', 'darkcyan']\n",
    "plt.axis('equal')\n",
    "plt.pie(size, labels=['남', '여'], autopct='%.2f%%', colors=color, startangle=90)\n",
    "plt.title(name+' 지역의 남녀 성별 비율')\n",
    "plt.show()"
   ]
  }
 ],
 "metadata": {
  "kernelspec": {
   "display_name": "Python 3",
   "language": "python",
   "name": "python3"
  },
  "language_info": {
   "codemirror_mode": {
    "name": "ipython",
    "version": 3
   },
   "file_extension": ".py",
   "mimetype": "text/x-python",
   "name": "python",
   "nbconvert_exporter": "python",
   "pygments_lexer": "ipython3",
   "version": "3.7.3"
  }
 },
 "nbformat": 4,
 "nbformat_minor": 2
}
