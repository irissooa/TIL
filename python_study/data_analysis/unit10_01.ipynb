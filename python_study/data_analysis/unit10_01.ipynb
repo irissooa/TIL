{
 "cells": [
  {
   "cell_type": "code",
   "execution_count": null,
   "metadata": {},
   "outputs": [],
   "source": [
    "%matplotlib inline\n",
    "import csv\n",
    "import math\n",
    "import matplotlib.pyplot as plt\n",
    "f = open('gender.csv')\n",
    "data=csv.reader(f)\n",
    "m=[]\n",
    "f=[]\n",
    "size=[]\n",
    "name=input('궁금한 동네를 입력해주세요 :')\n",
    "\n",
    "for row in data :\n",
    "    if name in row[0] :\n",
    "        for i in range(3,104) :\n",
    "            m.append(int(row[i]))\n",
    "            f.append(int(row[i+103]))\n",
    "            size.append(math.sqrt(int(row[i])+int(row[i+103])))\n",
    "        break\n",
    "\n",
    "plt.style.use('ggplot')\n",
    "plt.figure(figsize=(10,5), dpi=300)\n",
    "plt.rc('font', family='Malgun Gothic')\n",
    "plt.title(name+' 지역의 성별 인구 그래프')\n",
    "plt.scatter(m, f, s=size, c=range(101), alpha=0.5, cmap='jet')\n",
    "plt.colorbar()\n",
    "plt.plot(range(max(m)), range(max(m)), 'g')\n",
    "plt.xlabel('남성 인구수')\n",
    "plt.ylabel('여성 인구수')\n",
    "plt.show()"
   ]
  },
  {
   "cell_type": "code",
   "execution_count": null,
   "metadata": {},
   "outputs": [],
   "source": []
  }
 ],
 "metadata": {
  "kernelspec": {
   "display_name": "Python 3",
   "language": "python",
   "name": "python3"
  },
  "language_info": {
   "codemirror_mode": {
    "name": "ipython",
    "version": 3
   },
   "file_extension": ".py",
   "mimetype": "text/x-python",
   "name": "python",
   "nbconvert_exporter": "python",
   "pygments_lexer": "ipython3",
   "version": "3.7.3"
  }
 },
 "nbformat": 4,
 "nbformat_minor": 2
}
