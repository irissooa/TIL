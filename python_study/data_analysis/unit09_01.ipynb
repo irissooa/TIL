{
 "cells": [
  {
   "cell_type": "code",
   "execution_count": null,
   "metadata": {},
   "outputs": [],
   "source": [
    "%matplotlib inline\n",
    "import csv\n",
    "import matplotlib.pyplot as plt\n",
    "f = open('gender.csv')\n",
    "data=csv.reader(f)\n",
    "m = []\n",
    "f = []\n",
    "name=input('찾고 싶은 지역의 이름을 알려주세요 :')\n",
    "for row in data :\n",
    "    if name in row[0] :\n",
    "        for i in row[3:104] :\n",
    "            m.append(-int(float(i)))\n",
    "        for i in row[106:] :\n",
    "            f.append(int(float(i)))\n",
    "        break\n",
    "\n",
    "plt.style.use('ggplot')\n",
    "plt.figure(figsize=(10,5), dpi=300)\n",
    "plt.rc('font', family='Malgun Gothic')\n",
    "plt.rcParams['axes.unicode_minus'] = False\n",
    "plt.title(name+' 지역의 남녀 성별 인구 분포')\n",
    "plt.barh(range(101), m, label='남성')\n",
    "plt.barh(range(101), f, label='여성')\n",
    "plt.legend()\n",
    "plt.show()"
   ]
  },
  {
   "cell_type": "code",
   "execution_count": null,
   "metadata": {},
   "outputs": [],
   "source": []
  },
  {
   "cell_type": "code",
   "execution_count": null,
   "metadata": {},
   "outputs": [],
   "source": []
  }
 ],
 "metadata": {
  "kernelspec": {
   "display_name": "Python 3",
   "language": "python",
   "name": "python3"
  },
  "language_info": {
   "codemirror_mode": {
    "name": "ipython",
    "version": 3
   },
   "file_extension": ".py",
   "mimetype": "text/x-python",
   "name": "python",
   "nbconvert_exporter": "python",
   "pygments_lexer": "ipython3",
   "version": "3.7.3"
  }
 },
 "nbformat": 4,
 "nbformat_minor": 2
}
