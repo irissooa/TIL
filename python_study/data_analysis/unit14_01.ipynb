{
 "cells": [
  {
   "cell_type": "code",
   "execution_count": null,
   "metadata": {},
   "outputs": [],
   "source": [
    "%matplotlib inline\n",
    "import matplotlib.pyplot as plt\n",
    "import numpy as np\n",
    "import csv\n",
    "f=open('age2.csv')\n",
    "data=csv.reader(f)\n",
    "next(data)\n",
    "data=list(data)\n",
    "\n",
    "name=input('인구 구조가 알고 싶은 지역의 이름(읍면동 단위)을 입력해주세요 : ')\n",
    "mn = 1\n",
    "result_name = ''\n",
    "result = 0\n",
    "\n",
    "for row in data :\n",
    "    if name in row[0]:\n",
    "        home = np.array(row[3:], dtype=int)/int(float(row[2]))\n",
    "for row in data :\n",
    "    away = np.array(row[3:], dtype=int)/int(float(row[2]))\n",
    "    s = np.sum((home-away)**2)\n",
    "    if s < mn and name not in row[0] :\n",
    "        mn = s\n",
    "        result_name = row[0]\n",
    "        result = away\n",
    "\n",
    "plt.style.use('ggplot')\n",
    "plt.figure(figsize=(10,5), dpi=300)\n",
    "plt.rc('font', family='Malgun Gothic')\n",
    "plt.title(name+' 지역의 인구 구조')\n",
    "plt.plot(home, label=name)\n",
    "plt.plot(result, label=result_name)\n",
    "plt.legend()\n",
    "plt.show()"
   ]
  },
  {
   "cell_type": "code",
   "execution_count": null,
   "metadata": {},
   "outputs": [],
   "source": []
  }
 ],
 "metadata": {
  "kernelspec": {
   "display_name": "Python 3",
   "language": "python",
   "name": "python3"
  },
  "language_info": {
   "codemirror_mode": {
    "name": "ipython",
    "version": 3
   },
   "file_extension": ".py",
   "mimetype": "text/x-python",
   "name": "python",
   "nbconvert_exporter": "python",
   "pygments_lexer": "ipython3",
   "version": "3.7.3"
  }
 },
 "nbformat": 4,
 "nbformat_minor": 2
}
